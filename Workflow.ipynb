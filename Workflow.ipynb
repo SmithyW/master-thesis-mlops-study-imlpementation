{
 "cells": [
  {
   "cell_type": "markdown",
   "id": "43326be6-68a8-45e6-b0f8-9c0ee0c67a58",
   "metadata": {},
   "source": [
    "# Complete Workflow testing\n",
    "This notebook processes the full workflow from raw data to trained model for future usage with the preferred MLOps Tool Stack.\n",
    "In this case the relevant components will be DVC for Data Versioning, MLflow for Experiment Tracking and Model Registry and Prefect for Workflow Orchestration.\n",
    "Everything in this notebook is adapted to the specific customer segmentation project of a small car repair shop."
   ]
  },
  {
   "cell_type": "markdown",
   "id": "733f11f1-4b6c-4892-9993-33bad6a263d2",
   "metadata": {},
   "source": [
    "## Preparation"
   ]
  },
  {
   "cell_type": "markdown",
   "id": "7816d127-9f20-4add-9ee0-17213c7c2dd0",
   "metadata": {},
   "source": [
    "## Extract\n",
    "The extraction phase consists of\n",
    "- merging the raw text files\n",
    "- converting the text files to one single csv file\n",
    "- converting the csv file to a pandas DataFrame\n",
    "- processing the data (header name conversion, deleting unnessecary columns, normalizing, etc.)\n",
    "- converting the final DataFrame to a parquet file\n",
    "\n",
    "All steps are logged as MLflow runs with the relevant metadata and artifacts.\n",
    "Every step will be represented as a python function to easily create the corresponding python scripts."
   ]
  },
  {
   "cell_type": "markdown",
   "id": "6cfa3d00-4f6d-4c61-9326-a6f5846fe672",
   "metadata": {},
   "source": [
    "### Define common variables\n",
    "These variables will be parameters for the final python scripts."
   ]
  },
  {
   "cell_type": "code",
   "execution_count": 15,
   "id": "d8f09bbf-9aa5-4c53-b0f0-bd8924494a5f",
   "metadata": {},
   "outputs": [],
   "source": [
    "import os\n",
    "raw_data_path = 'data'\n",
    "tmp_file_path = '/tmp'\n",
    "raw_data_merged_file_name = 'data_merged.TXT'\n",
    "raw_data_encoding = 'iso8859_15'"
   ]
  },
  {
   "cell_type": "markdown",
   "id": "94aa9fe2-6832-4d12-861b-ba61e86295d5",
   "metadata": {},
   "source": [
    "### Merging the raw text files"
   ]
  },
  {
   "cell_type": "code",
   "execution_count": 16,
   "id": "c2edc852-dd0f-47fd-9989-4ade2d62a956",
   "metadata": {},
   "outputs": [
    {
     "data": {
      "text/plain": [
       "['2012_08-2016_07.TXT',\n",
       " '2020_08-2024_07.TXT',\n",
       " '2010_08-2012_07.TXT',\n",
       " '2016_08-2020_07.TXT']"
      ]
     },
     "execution_count": 16,
     "metadata": {},
     "output_type": "execute_result"
    }
   ],
   "source": [
    "raw_files = os.listdir(raw_data_path)\n",
    "raw_files"
   ]
  },
  {
   "cell_type": "code",
   "execution_count": 17,
   "id": "888544af-9b33-441c-9574-f1dafbb1889a",
   "metadata": {},
   "outputs": [
    {
     "name": "stdout",
     "output_type": "stream",
     "text": [
      "Execution of merging took: 0.21520328521728516s\n"
     ]
    }
   ],
   "source": [
    "import time\n",
    "\n",
    "start_time = time.time()\n",
    "with open(os.path.join(tmp_file_path, raw_data_merged_file_name), 'w') as merged:\n",
    "    for idx, file in enumerate(raw_files):\n",
    "        with open(os.path.join(raw_data_path, file), 'r', encoding=raw_data_encoding) as current_raw_file:\n",
    "            if idx == 0:\n",
    "                merged.writelines(current_raw_file.readlines())\n",
    "                continue\n",
    "            merged.writelines(current_raw_file.readlines()[1:])\n",
    "print(f\"Execution of merging took: {time.time() - start_time}s\")"
   ]
  },
  {
   "cell_type": "code",
   "execution_count": null,
   "id": "5c6247af-0110-48f6-a5fc-d7518714a5fe",
   "metadata": {},
   "outputs": [],
   "source": []
  }
 ],
 "metadata": {
  "kernelspec": {
   "display_name": "Python 3 (ipykernel)",
   "language": "python",
   "name": "python3"
  },
  "language_info": {
   "codemirror_mode": {
    "name": "ipython",
    "version": 3
   },
   "file_extension": ".py",
   "mimetype": "text/x-python",
   "name": "python",
   "nbconvert_exporter": "python",
   "pygments_lexer": "ipython3",
   "version": "3.11.9"
  }
 },
 "nbformat": 4,
 "nbformat_minor": 5
}
